{
  "nbformat": 4,
  "nbformat_minor": 0,
  "metadata": {
    "colab": {
      "name": "review_sentiment_BERT using TF(17-June-20).ipynb",
      "provenance": [],
      "toc_visible": true,
      "authorship_tag": "ABX9TyNUkLqStPj+RVraMnR2tmZ3",
      "include_colab_link": true
    },
    "kernelspec": {
      "name": "python3",
      "display_name": "Python 3"
    },
    "accelerator": "GPU"
  },
  "cells": [
    {
      "cell_type": "markdown",
      "metadata": {
        "id": "view-in-github",
        "colab_type": "text"
      },
      "source": [
        "<a href=\"https://colab.research.google.com/github/taniyasinghsisodia/Deep-Learning-Projects/blob/master/review_sentiment_BERT_using_TF(17_June_20).ipynb\" target=\"_parent\"><img src=\"https://colab.research.google.com/assets/colab-badge.svg\" alt=\"Open In Colab\"/></a>"
      ]
    },
    {
      "cell_type": "markdown",
      "metadata": {
        "id": "71k4eKhoE0rK",
        "colab_type": "text"
      },
      "source": [
        "# **Import The Essentials**"
      ]
    },
    {
      "cell_type": "code",
      "metadata": {
        "id": "EzNB2eiunyZj",
        "colab_type": "code",
        "colab": {}
      },
      "source": [
        "import numpy as np\n",
        "import math\n",
        "import re\n",
        "import pandas as pd\n",
        "from bs4 import BeautifulSoup\n",
        "import random\n",
        "import matplotlib.pyplot as plt\n"
      ],
      "execution_count": 1,
      "outputs": []
    },
    {
      "cell_type": "code",
      "metadata": {
        "id": "Hga6SJ0ioDSb",
        "colab_type": "code",
        "colab": {
          "base_uri": "https://localhost:8080/",
          "height": 533
        },
        "outputId": "69c189a6-0e2e-42c0-bd7b-1c0de69ab40e"
      },
      "source": [
        "!pip install bert-for-tf2\n",
        "!pip install sentencepiece"
      ],
      "execution_count": 2,
      "outputs": [
        {
          "output_type": "stream",
          "text": [
            "Collecting bert-for-tf2\n",
            "\u001b[?25l  Downloading https://files.pythonhosted.org/packages/35/5c/6439134ecd17b33fe0396fb0b7d6ce3c5a120c42a4516ba0e9a2d6e43b25/bert-for-tf2-0.14.4.tar.gz (40kB)\n",
            "\r\u001b[K     |████████                        | 10kB 17.7MB/s eta 0:00:01\r\u001b[K     |████████████████▏               | 20kB 4.7MB/s eta 0:00:01\r\u001b[K     |████████████████████████▎       | 30kB 5.7MB/s eta 0:00:01\r\u001b[K     |████████████████████████████████| 40kB 2.9MB/s \n",
            "\u001b[?25hCollecting py-params>=0.9.6\n",
            "  Downloading https://files.pythonhosted.org/packages/a4/bf/c1c70d5315a8677310ea10a41cfc41c5970d9b37c31f9c90d4ab98021fd1/py-params-0.9.7.tar.gz\n",
            "Collecting params-flow>=0.8.0\n",
            "  Downloading https://files.pythonhosted.org/packages/a9/95/ff49f5ebd501f142a6f0aaf42bcfd1c192dc54909d1d9eb84ab031d46056/params-flow-0.8.2.tar.gz\n",
            "Requirement already satisfied: numpy in /usr/local/lib/python3.6/dist-packages (from params-flow>=0.8.0->bert-for-tf2) (1.18.5)\n",
            "Requirement already satisfied: tqdm in /usr/local/lib/python3.6/dist-packages (from params-flow>=0.8.0->bert-for-tf2) (4.41.1)\n",
            "Building wheels for collected packages: bert-for-tf2, py-params, params-flow\n",
            "  Building wheel for bert-for-tf2 (setup.py) ... \u001b[?25l\u001b[?25hdone\n",
            "  Created wheel for bert-for-tf2: filename=bert_for_tf2-0.14.4-cp36-none-any.whl size=30114 sha256=67f3293e104e8c9a633df73df993890ef3fa62658e7106f11209e2f04c446e86\n",
            "  Stored in directory: /root/.cache/pip/wheels/cf/3f/4d/79d7735015a5f523648df90d871ce8e89a7df8185f7703eeab\n",
            "  Building wheel for py-params (setup.py) ... \u001b[?25l\u001b[?25hdone\n",
            "  Created wheel for py-params: filename=py_params-0.9.7-cp36-none-any.whl size=7302 sha256=d88a51b478f0c118181e3dd1156024598f626771602a3150d2074d09b3b2a930\n",
            "  Stored in directory: /root/.cache/pip/wheels/67/f5/19/b461849a50aefdf4bab47c4756596e82ee2118b8278e5a1980\n",
            "  Building wheel for params-flow (setup.py) ... \u001b[?25l\u001b[?25hdone\n",
            "  Created wheel for params-flow: filename=params_flow-0.8.2-cp36-none-any.whl size=19473 sha256=ff9399d113623b399b3d1566a79a46d244fa0b59d6044bd95a0535b6f464c253\n",
            "  Stored in directory: /root/.cache/pip/wheels/08/c8/7f/81c86b9ff2b86e2c477e3914175be03e679e596067dc630c06\n",
            "Successfully built bert-for-tf2 py-params params-flow\n",
            "Installing collected packages: py-params, params-flow, bert-for-tf2\n",
            "Successfully installed bert-for-tf2-0.14.4 params-flow-0.8.2 py-params-0.9.7\n",
            "Collecting sentencepiece\n",
            "\u001b[?25l  Downloading https://files.pythonhosted.org/packages/d4/a4/d0a884c4300004a78cca907a6ff9a5e9fe4f090f5d95ab341c53d28cbc58/sentencepiece-0.1.91-cp36-cp36m-manylinux1_x86_64.whl (1.1MB)\n",
            "\u001b[K     |████████████████████████████████| 1.1MB 6.8MB/s \n",
            "\u001b[?25hInstalling collected packages: sentencepiece\n",
            "Successfully installed sentencepiece-0.1.91\n"
          ],
          "name": "stdout"
        }
      ]
    },
    {
      "cell_type": "code",
      "metadata": {
        "id": "LXT_IjxuoU7E",
        "colab_type": "code",
        "colab": {}
      },
      "source": [
        "import tensorflow as tf\n",
        "import tensorflow_hub as hub\n",
        "from tensorflow.keras import layers\n",
        "import bert"
      ],
      "execution_count": 5,
      "outputs": []
    },
    {
      "cell_type": "markdown",
      "metadata": {
        "id": "ywNgWIoVFEtv",
        "colab_type": "text"
      },
      "source": [
        "# **Loading The Dataset**"
      ]
    },
    {
      "cell_type": "code",
      "metadata": {
        "id": "enWg6AeTos07",
        "colab_type": "code",
        "colab": {}
      },
      "source": [
        "data=pd.read_csv('Restaurant_Reviews.tsv', delimiter='\\t')"
      ],
      "execution_count": 6,
      "outputs": []
    },
    {
      "cell_type": "code",
      "metadata": {
        "id": "h8v0H3cUo5Lt",
        "colab_type": "code",
        "colab": {
          "base_uri": "https://localhost:8080/",
          "height": 206
        },
        "outputId": "d19ee1e1-ac83-4ea0-f90e-ef6d9126b962"
      },
      "source": [
        "data.head(5)"
      ],
      "execution_count": 7,
      "outputs": [
        {
          "output_type": "execute_result",
          "data": {
            "text/html": [
              "<div>\n",
              "<style scoped>\n",
              "    .dataframe tbody tr th:only-of-type {\n",
              "        vertical-align: middle;\n",
              "    }\n",
              "\n",
              "    .dataframe tbody tr th {\n",
              "        vertical-align: top;\n",
              "    }\n",
              "\n",
              "    .dataframe thead th {\n",
              "        text-align: right;\n",
              "    }\n",
              "</style>\n",
              "<table border=\"1\" class=\"dataframe\">\n",
              "  <thead>\n",
              "    <tr style=\"text-align: right;\">\n",
              "      <th></th>\n",
              "      <th>Review</th>\n",
              "      <th>Liked</th>\n",
              "    </tr>\n",
              "  </thead>\n",
              "  <tbody>\n",
              "    <tr>\n",
              "      <th>0</th>\n",
              "      <td>Wow... Loved this place.</td>\n",
              "      <td>1</td>\n",
              "    </tr>\n",
              "    <tr>\n",
              "      <th>1</th>\n",
              "      <td>Crust is not good.</td>\n",
              "      <td>0</td>\n",
              "    </tr>\n",
              "    <tr>\n",
              "      <th>2</th>\n",
              "      <td>Not tasty and the texture was just nasty.</td>\n",
              "      <td>0</td>\n",
              "    </tr>\n",
              "    <tr>\n",
              "      <th>3</th>\n",
              "      <td>Stopped by during the late May bank holiday of...</td>\n",
              "      <td>1</td>\n",
              "    </tr>\n",
              "    <tr>\n",
              "      <th>4</th>\n",
              "      <td>The selection on the menu was great and so wer...</td>\n",
              "      <td>1</td>\n",
              "    </tr>\n",
              "  </tbody>\n",
              "</table>\n",
              "</div>"
            ],
            "text/plain": [
              "                                              Review  Liked\n",
              "0                           Wow... Loved this place.      1\n",
              "1                                 Crust is not good.      0\n",
              "2          Not tasty and the texture was just nasty.      0\n",
              "3  Stopped by during the late May bank holiday of...      1\n",
              "4  The selection on the menu was great and so wer...      1"
            ]
          },
          "metadata": {
            "tags": []
          },
          "execution_count": 7
        }
      ]
    },
    {
      "cell_type": "code",
      "metadata": {
        "id": "Acd_KM2ssG62",
        "colab_type": "code",
        "colab": {
          "base_uri": "https://localhost:8080/",
          "height": 35
        },
        "outputId": "98195ee8-9557-4b0b-c5d8-09559bf3c574"
      },
      "source": [
        "data.shape"
      ],
      "execution_count": 9,
      "outputs": [
        {
          "output_type": "execute_result",
          "data": {
            "text/plain": [
              "(1000, 2)"
            ]
          },
          "metadata": {
            "tags": []
          },
          "execution_count": 9
        }
      ]
    },
    {
      "cell_type": "markdown",
      "metadata": {
        "id": "hnkITsMhFT8-",
        "colab_type": "text"
      },
      "source": [
        "# **Cleaning Of The Dataset**"
      ]
    },
    {
      "cell_type": "code",
      "metadata": {
        "id": "UEyorQS_HArn",
        "colab_type": "code",
        "colab": {}
      },
      "source": [
        "def clean_tweet(tweet):\n",
        "    tweet = BeautifulSoup(tweet, \"lxml\").get_text()\n",
        "    # Removing the @\n",
        "    tweet = re.sub(r\"@[A-Za-z0-9]+\", ' ', tweet)\n",
        "    # Removing the URL links\n",
        "    tweet = re.sub(r\"https?://[A-Za-z0-9./]+\", ' ', tweet)\n",
        "    # Keeping only letters\n",
        "    tweet = re.sub(r\"[^a-zA-Z.!?']\", ' ', tweet)\n",
        "    # Removing additional whitespaces\n",
        "    tweet = re.sub(r\" +\", ' ', tweet)\n",
        "    return tweet "
      ],
      "execution_count": 11,
      "outputs": []
    },
    {
      "cell_type": "code",
      "metadata": {
        "id": "jZafG1bDvTeL",
        "colab_type": "code",
        "colab": {}
      },
      "source": [
        "data_clean=[clean_tweet(tweet) for tweet in data.Review]"
      ],
      "execution_count": 12,
      "outputs": []
    },
    {
      "cell_type": "code",
      "metadata": {
        "id": "qfgCkO3t1k5I",
        "colab_type": "code",
        "colab": {
          "base_uri": "https://localhost:8080/",
          "height": 201
        },
        "outputId": "e778b65a-0eec-4173-d299-120baceee8f0"
      },
      "source": [
        "data_clean[:10]"
      ],
      "execution_count": 54,
      "outputs": [
        {
          "output_type": "execute_result",
          "data": {
            "text/plain": [
              "['Wow... Loved this place.',\n",
              " 'Crust is not good.',\n",
              " 'Not tasty and the texture was just nasty.',\n",
              " 'Stopped by during the late May bank holiday off Rick Steve recommendation and loved it.',\n",
              " 'The selection on the menu was great and so were the prices.',\n",
              " 'Now I am getting angry and I want my damn pho.',\n",
              " \"Honeslty it didn't taste THAT fresh. \",\n",
              " 'The potatoes were like rubber and you could tell they had been made up ahead of time being kept under a warmer.',\n",
              " 'The fries were great too.',\n",
              " 'A great touch.']"
            ]
          },
          "metadata": {
            "tags": []
          },
          "execution_count": 54
        }
      ]
    },
    {
      "cell_type": "code",
      "metadata": {
        "id": "_MNzArBM1m_t",
        "colab_type": "code",
        "colab": {}
      },
      "source": [
        "data_labels = data.Liked.values #convert list to array "
      ],
      "execution_count": 14,
      "outputs": []
    },
    {
      "cell_type": "code",
      "metadata": {
        "id": "NV5iw9BN12-w",
        "colab_type": "code",
        "colab": {
          "base_uri": "https://localhost:8080/",
          "height": 35
        },
        "outputId": "84e833f6-9e93-4bc7-ea1a-ce701540612a"
      },
      "source": [
        "data_labels[:10]"
      ],
      "execution_count": 15,
      "outputs": [
        {
          "output_type": "execute_result",
          "data": {
            "text/plain": [
              "array([1, 0, 0, 1, 1, 0, 0, 0, 1, 1])"
            ]
          },
          "metadata": {
            "tags": []
          },
          "execution_count": 15
        }
      ]
    },
    {
      "cell_type": "code",
      "metadata": {
        "id": "xJ1uEJP02D-9",
        "colab_type": "code",
        "colab": {
          "base_uri": "https://localhost:8080/",
          "height": 35
        },
        "outputId": "3e4bb303-366a-4751-811f-22fe514a1095"
      },
      "source": [
        "type(data_labels)"
      ],
      "execution_count": 16,
      "outputs": [
        {
          "output_type": "execute_result",
          "data": {
            "text/plain": [
              "numpy.ndarray"
            ]
          },
          "metadata": {
            "tags": []
          },
          "execution_count": 16
        }
      ]
    },
    {
      "cell_type": "markdown",
      "metadata": {
        "id": "PUC_by5M4Cht",
        "colab_type": "text"
      },
      "source": [
        "#**Tokenizer**"
      ]
    },
    {
      "cell_type": "code",
      "metadata": {
        "id": "I5uKae082TIh",
        "colab_type": "code",
        "colab": {}
      },
      "source": [
        "FullTokenizer = bert.bert_tokenization.FullTokenizer\n",
        "bert_layer = hub.KerasLayer(\"https://tfhub.dev/tensorflow/bert_en_uncased_L-12_H-768_A-12/1\",\n",
        "                            trainable=False)\n",
        "vocab_file = bert_layer.resolved_object.vocab_file.asset_path.numpy()\n",
        "do_lower_case = bert_layer.resolved_object.do_lower_case.numpy()\n",
        "tokenizer = FullTokenizer(vocab_file, do_lower_case)"
      ],
      "execution_count": 17,
      "outputs": []
    },
    {
      "cell_type": "code",
      "metadata": {
        "id": "KiuU7YoU4St0",
        "colab_type": "code",
        "colab": {}
      },
      "source": [
        "def encode_sentence(sent):\n",
        "    return [\"[CLS]\"] + tokenizer.tokenize(sent) + [\"[SEP]\"]"
      ],
      "execution_count": 18,
      "outputs": []
    },
    {
      "cell_type": "code",
      "metadata": {
        "id": "921L-VZR4mOy",
        "colab_type": "code",
        "colab": {}
      },
      "source": [
        "data_inputs = [encode_sentence(sentence) for sentence in data_clean] #list comprehension"
      ],
      "execution_count": 19,
      "outputs": []
    },
    {
      "cell_type": "code",
      "metadata": {
        "id": "ZTBWJmP35ajZ",
        "colab_type": "code",
        "colab": {
          "base_uri": "https://localhost:8080/",
          "height": 880
        },
        "outputId": "3ab03aed-ca29-4963-b42a-eefd7cf79165"
      },
      "source": [
        "data_inputs[:5]"
      ],
      "execution_count": 55,
      "outputs": [
        {
          "output_type": "execute_result",
          "data": {
            "text/plain": [
              "[['[CLS]', 'wow', '.', '.', '.', 'loved', 'this', 'place', '.', '[SEP]'],\n",
              " ['[CLS]', 'crust', 'is', 'not', 'good', '.', '[SEP]'],\n",
              " ['[CLS]',\n",
              "  'not',\n",
              "  'ta',\n",
              "  '##sty',\n",
              "  'and',\n",
              "  'the',\n",
              "  'texture',\n",
              "  'was',\n",
              "  'just',\n",
              "  'nasty',\n",
              "  '.',\n",
              "  '[SEP]'],\n",
              " ['[CLS]',\n",
              "  'stopped',\n",
              "  'by',\n",
              "  'during',\n",
              "  'the',\n",
              "  'late',\n",
              "  'may',\n",
              "  'bank',\n",
              "  'holiday',\n",
              "  'off',\n",
              "  'rick',\n",
              "  'steve',\n",
              "  'recommendation',\n",
              "  'and',\n",
              "  'loved',\n",
              "  'it',\n",
              "  '.',\n",
              "  '[SEP]'],\n",
              " ['[CLS]',\n",
              "  'the',\n",
              "  'selection',\n",
              "  'on',\n",
              "  'the',\n",
              "  'menu',\n",
              "  'was',\n",
              "  'great',\n",
              "  'and',\n",
              "  'so',\n",
              "  'were',\n",
              "  'the',\n",
              "  'prices',\n",
              "  '.',\n",
              "  '[SEP]']]"
            ]
          },
          "metadata": {
            "tags": []
          },
          "execution_count": 55
        }
      ]
    },
    {
      "cell_type": "code",
      "metadata": {
        "id": "wmW9JZLJaxww",
        "colab_type": "code",
        "colab": {}
      },
      "source": [
        "def get_ids(tokens):\n",
        "    return tokenizer.convert_tokens_to_ids(tokens)\n",
        "\n",
        "def get_mask(tokens):\n",
        "    return np.char.not_equal(tokens, \"[PAD]\").astype(int)\n",
        "#np.char.not_equal  used to comparision\n",
        "\n",
        "def get_segments(tokens):\n",
        "    seg_ids = []\n",
        "    current_seg_id = 0\n",
        "    for tok in tokens:\n",
        "        seg_ids.append(current_seg_id)\n",
        "        if tok == \"[SEP]\":\n",
        "            current_seg_id = 1-current_seg_id # turns 1 into 0 and vice versa\n",
        "    return seg_ids"
      ],
      "execution_count": 21,
      "outputs": []
    },
    {
      "cell_type": "code",
      "metadata": {
        "id": "6vkOB5gS6vLv",
        "colab_type": "code",
        "colab": {}
      },
      "source": [
        "data_with_len = [[sent, data_labels[i], len(sent)]\n",
        "                 for i, sent in enumerate(data_inputs)]\n",
        "random.shuffle(data_with_len)\n",
        "data_with_len.sort(key=lambda x: x[2])\n",
        "sorted_all = [([get_ids(sent_lab[0]),\n",
        "                get_mask(sent_lab[0]),\n",
        "                get_segments(sent_lab[0])],\n",
        "               sent_lab[1])\n",
        "              for sent_lab in data_with_len if sent_lab[2] > 7]"
      ],
      "execution_count": 22,
      "outputs": []
    },
    {
      "cell_type": "code",
      "metadata": {
        "id": "ZkMiqmzsfo6a",
        "colab_type": "code",
        "colab": {}
      },
      "source": [
        "# A list is a type of iterator so it can be used as generator for a dataset\n",
        "all_dataset = tf.data.Dataset.from_generator(lambda: sorted_all,\n",
        "                                             output_types=(tf.int32, tf.int32))"
      ],
      "execution_count": 24,
      "outputs": []
    },
    {
      "cell_type": "code",
      "metadata": {
        "id": "gkGWlzeOfos6",
        "colab_type": "code",
        "colab": {}
      },
      "source": [
        "BATCH_SIZE = 32\n",
        "all_batched = all_dataset.padded_batch(BATCH_SIZE,\n",
        "                                       padded_shapes=((3, None), ()),\n",
        "                                       padding_values=(0, 0))"
      ],
      "execution_count": 26,
      "outputs": []
    },
    {
      "cell_type": "code",
      "metadata": {
        "id": "5aA7it--hHl4",
        "colab_type": "code",
        "colab": {}
      },
      "source": [
        "NB_BATCHES = math.ceil(len(sorted_all) / BATCH_SIZE)\n",
        "NB_BATCHES_TEST = NB_BATCHES // 10\n",
        "all_batched.shuffle(NB_BATCHES)\n",
        "test_dataset = all_batched.take(NB_BATCHES_TEST)\n",
        "train_dataset = all_batched.skip(NB_BATCHES_TEST)"
      ],
      "execution_count": 27,
      "outputs": []
    },
    {
      "cell_type": "code",
      "metadata": {
        "id": "Hc75oG9C7kuS",
        "colab_type": "code",
        "colab": {
          "base_uri": "https://localhost:8080/",
          "height": 1000
        },
        "outputId": "c8e09e1e-076c-4613-c202-025af5dab348"
      },
      "source": [
        "next(iter(train_dataset))"
      ],
      "execution_count": 28,
      "outputs": [
        {
          "output_type": "execute_result",
          "data": {
            "text/plain": [
              "(<tf.Tensor: shape=(32, 3, 9), dtype=int32, numpy=\n",
              " array([[[  101,  2833,  2001,  2061, 27571,  7716,  2094,  1012,   102],\n",
              "         [    1,     1,     1,     1,     1,     1,     1,     1,     1],\n",
              "         [    0,     0,     0,     0,     0,     0,     0,     0,     0]],\n",
              " \n",
              "        [[  101,  1996, 26666,  2003,  2498,  2569, 18971,  1012,   102],\n",
              "         [    1,     1,     1,     1,     1,     1,     1,     1,     1],\n",
              "         [    0,     0,     0,     0,     0,     0,     0,     0,     0]],\n",
              " \n",
              "        [[  101,  2079,  2025,  5949,  2115,  2769,  2182,   999,   102],\n",
              "         [    1,     1,     1,     1,     1,     1,     1,     1,     1],\n",
              "         [    0,     0,     0,     0,     0,     0,     0,     0,     0]],\n",
              " \n",
              "        [[  101,  2037, 20209, 24182,  2003,  2061,  2204,   999,   102],\n",
              "         [    1,     1,     1,     1,     1,     1,     1,     1,     1],\n",
              "         [    0,     0,     0,     0,     0,     0,     0,     0,     0]],\n",
              " \n",
              "        [[  101,  2204,  3643,  2307,  2833,  2307,  2326,  1012,   102],\n",
              "         [    1,     1,     1,     1,     1,     1,     1,     1,     1],\n",
              "         [    0,     0,     0,     0,     0,     0,     0,     0,     0]],\n",
              " \n",
              "        [[  101,  2398,  2091,  2026,  5440,  3059,  4825,   999,   102],\n",
              "         [    1,     1,     1,     1,     1,     1,     1,     1,     1],\n",
              "         [    0,     0,     0,     0,     0,     0,     0,     0,     0]],\n",
              " \n",
              "        [[  101,  5791,  2025,  4276,  1996,  1045,  3825,  1012,   102],\n",
              "         [    1,     1,     1,     1,     1,     1,     1,     1,     1],\n",
              "         [    0,     0,     0,     0,     0,     0,     0,     0,     0]],\n",
              " \n",
              "        [[  101,  5791,  2097,  2272,  2067,  2182,  2153,  1012,   102],\n",
              "         [    1,     1,     1,     1,     1,     1,     1,     1,     1],\n",
              "         [    0,     0,     0,     0,     0,     0,     0,     0,     0]],\n",
              " \n",
              "        [[  101,  2019,  3178,  1012,  1012,  1012,  5667,  1029,   102],\n",
              "         [    1,     1,     1,     1,     1,     1,     1,     1,     1],\n",
              "         [    0,     0,     0,     0,     0,     0,     0,     0,     0]],\n",
              " \n",
              "        [[  101,  1996,  4268,  2377,  2181,  2003, 11808,   999,   102],\n",
              "         [    1,     1,     1,     1,     1,     1,     1,     1,     1],\n",
              "         [    0,     0,     0,     0,     0,     0,     0,     0,     0]],\n",
              " \n",
              "        [[  101,  1996,  2326,  2001,  1037,  2978, 11158,  1012,   102],\n",
              "         [    1,     1,     1,     1,     1,     1,     1,     1,     1],\n",
              "         [    0,     0,     0,     0,     0,     0,     0,     0,     0]],\n",
              " \n",
              "        [[  101,  2057,  2180,  1005,  1056,  2022,  4192,  1012,   102],\n",
              "         [    1,     1,     1,     1,     1,     1,     1,     1,     1],\n",
              "         [    0,     0,     0,     0,     0,     0,     0,     0,     0]],\n",
              " \n",
              "        [[  101,  2673,  2001,  2204,  1998, 11937, 21756,   999,   102],\n",
              "         [    1,     1,     1,     1,     1,     1,     1,     1,     1],\n",
              "         [    0,     0,     0,     0,     0,     0,     0,     0,     0]],\n",
              " \n",
              "        [[  101,  1998,  1996,  8974,  2024,  5410,  2111,   999,   102],\n",
              "         [    1,     1,     1,     1,     1,     1,     1,     1,     1],\n",
              "         [    0,     0,     0,     0,     0,     0,     0,     0,     0]],\n",
              " \n",
              "        [[  101,  2017,  2064,  1005,  1056,  3786,  2008,  1012,   102],\n",
              "         [    1,     1,     1,     1,     1,     1,     1,     1,     1],\n",
              "         [    0,     0,     0,     0,     0,     0,     0,     0,     0]],\n",
              " \n",
              "        [[  101,  2057,  1005,  2222,  2196,  2175,  2153,  1012,   102],\n",
              "         [    1,     1,     1,     1,     1,     1,     1,     1,     1],\n",
              "         [    0,     0,     0,     0,     0,     0,     0,     0,     0]],\n",
              " \n",
              "        [[  101,  2023,  2001,  2066,  1996,  2345,  6271,   999,   102],\n",
              "         [    1,     1,     1,     1,     1,     1,     1,     1,     1],\n",
              "         [    0,     0,     0,     0,     0,     0,     0,     0,     0]],\n",
              " \n",
              "        [[  101,  2023,  2028,  2003,  3432,  1037, 10520,  1012,   102],\n",
              "         [    1,     1,     1,     1,     1,     1,     1,     1,     1],\n",
              "         [    0,     0,     0,     0,     0,     0,     0,     0,     0]],\n",
              " \n",
              "        [[  101,  2021,  1996,  2326,  2001,  3458,  2919,  1012,   102],\n",
              "         [    1,     1,     1,     1,     1,     1,     1,     1,     1],\n",
              "         [    0,     0,     0,     0,     0,     0,     0,     0,     0]],\n",
              " \n",
              "        [[  101,  2057,  2020, 13364, 11188,  1998,  8901,  1012,   102],\n",
              "         [    1,     1,     1,     1,     1,     1,     1,     1,     1],\n",
              "         [    0,     0,     0,     0,     0,     0,     0,     0,     0]],\n",
              " \n",
              "        [[  101,  1045,  2180,  1005,  1056,  2022,  2067,  1012,   102],\n",
              "         [    1,     1,     1,     1,     1,     1,     1,     1,     1],\n",
              "         [    0,     0,     0,     0,     0,     0,     0,     0,     0]],\n",
              " \n",
              "        [[  101,  2253,  2005,  6265,  2326,  2001,  4030,  1012,   102],\n",
              "         [    1,     1,     1,     1,     1,     1,     1,     1,     1],\n",
              "         [    0,     0,     0,     0,     0,     0,     0,     0,     0]],\n",
              " \n",
              "        [[  101,  2123,  1005,  1056,  8572,  2746,  2182,  1012,   102],\n",
              "         [    1,     1,     1,     1,     1,     1,     1,     1,     1],\n",
              "         [    0,     0,     0,     0,     0,     0,     0,     0,     0]],\n",
              " \n",
              "        [[  101,  2057,  2097,  2025,  2022,  2746,  2067,  1012,   102],\n",
              "         [    1,     1,     1,     1,     1,     1,     1,     1,     1],\n",
              "         [    0,     0,     0,     0,     0,     0,     0,     0,     0]],\n",
              " \n",
              "        [[  101,  1045,  3866,  1996, 11611,  5058,  5246,  1012,   102],\n",
              "         [    1,     1,     1,     1,     1,     1,     1,     1,     1],\n",
              "         [    0,     0,     0,     0,     0,     0,     0,     0,     0]],\n",
              " \n",
              "        [[  101,  1996, 13877,  2229,  2024,  2200,  5379,  1012,   102],\n",
              "         [    1,     1,     1,     1,     1,     1,     1,     1,     1],\n",
              "         [    0,     0,     0,     0,     0,     0,     0,     0,     0]],\n",
              " \n",
              "        [[  101,  1996,  2572, 15599,  3401,  2001,  9788,  1012,   102],\n",
              "         [    1,     1,     1,     1,     1,     1,     1,     1,     1],\n",
              "         [    0,     0,     0,     0,     0,     0,     0,     0,     0]],\n",
              " \n",
              "        [[  101,  1045,  1005,  2310,  2018,  2488,  7224,  1012,   102],\n",
              "         [    1,     1,     1,     1,     1,     1,     1,     1,     1],\n",
              "         [    0,     0,     0,     0,     0,     0,     0,     0,     0]],\n",
              " \n",
              "        [[  101, 13366,  2746,  2067,  2000,  4605,  2279,  2051,   102],\n",
              "         [    1,     1,     1,     1,     1,     1,     1,     1,     1],\n",
              "         [    0,     0,     0,     0,     0,     0,     0,     0,     0]],\n",
              " \n",
              "        [[  101,  1996,  2613, 10520,  2001,  2256, 15610,  1012,   102],\n",
              "         [    1,     1,     1,     1,     1,     1,     1,     1,     1],\n",
              "         [    0,     0,     0,     0,     0,     0,     0,     0,     0]],\n",
              " \n",
              "        [[  101,  1045,  1005,  1049,  3565, 18138,  2094,  1012,   102],\n",
              "         [    1,     1,     1,     1,     1,     1,     1,     1,     1],\n",
              "         [    0,     0,     0,     0,     0,     0,     0,     0,     0]],\n",
              " \n",
              "        [[  101,  1045,  2052,  2025, 16755,  2023,  2173,  1012,   102],\n",
              "         [    1,     1,     1,     1,     1,     1,     1,     1,     1],\n",
              "         [    0,     0,     0,     0,     0,     0,     0,     0,     0]]],\n",
              "       dtype=int32)>, <tf.Tensor: shape=(32,), dtype=int32, numpy=\n",
              " array([1, 0, 0, 1, 1, 1, 0, 1, 0, 0, 0, 0, 1, 0, 1, 0, 0, 0, 0, 1, 0, 0,\n",
              "        0, 0, 1, 1, 1, 0, 1, 0, 0, 0], dtype=int32)>)"
            ]
          },
          "metadata": {
            "tags": []
          },
          "execution_count": 28
        }
      ]
    },
    {
      "cell_type": "markdown",
      "metadata": {
        "id": "hth6bckrF1ps",
        "colab_type": "text"
      },
      "source": [
        "# **Model Building**"
      ]
    },
    {
      "cell_type": "code",
      "metadata": {
        "id": "L6DD3k3qPLDQ",
        "colab_type": "code",
        "colab": {}
      },
      "source": [
        "class DCNNBERTEmbedding(tf.keras.Model):\n",
        "    \n",
        "    def __init__(self,\n",
        "                 nb_filters=50,\n",
        "                 FFN_units=512,\n",
        "                 nb_classes=2,\n",
        "                 dropout_rate=0.1,\n",
        "                 name=\"dcnn\"):\n",
        "        super(DCNNBERTEmbedding, self).__init__(name=name)\n",
        "        \n",
        "        self.bert_layer = hub.KerasLayer(\n",
        "            \"https://tfhub.dev/tensorflow/bert_en_uncased_L-12_H-768_A-12/1\",\n",
        "            trainable=False)\n",
        "\n",
        "        self.bigram = layers.Conv1D(filters=nb_filters,\n",
        "                                    kernel_size=2,\n",
        "                                    padding=\"valid\",\n",
        "                                    activation=\"relu\")\n",
        "        self.trigram = layers.Conv1D(filters=nb_filters,\n",
        "                                     kernel_size=3,\n",
        "                                     padding=\"valid\",\n",
        "                                     activation=\"relu\")\n",
        "        self.fourgram = layers.Conv1D(filters=nb_filters,\n",
        "                                      kernel_size=4,\n",
        "                                      padding=\"valid\",\n",
        "                                      activation=\"relu\")\n",
        "        self.pool = layers.GlobalMaxPool1D()\n",
        "        self.dense_1 = layers.Dense(units=FFN_units, activation=\"relu\")\n",
        "        self.dropout = layers.Dropout(rate=dropout_rate)\n",
        "        if nb_classes == 2:\n",
        "            self.last_dense = layers.Dense(units=1,\n",
        "                                           activation=\"sigmoid\")\n",
        "        else:\n",
        "            self.last_dense = layers.Dense(units=nb_classes,\n",
        "                                           activation=\"softmax\")\n",
        "    \n",
        "    def embed_with_bert(self, all_tokens):\n",
        "        _, embs = self.bert_layer([all_tokens[:, 0, :],\n",
        "                                   all_tokens[:, 1, :],\n",
        "                                   all_tokens[:, 2, :]])\n",
        "        return embs\n",
        "\n",
        "    def call(self, inputs, training):\n",
        "        x = self.embed_with_bert(inputs)\n",
        "\n",
        "        x_1 = self.bigram(x)\n",
        "        x_1 = self.pool(x_1)\n",
        "        x_2 = self.trigram(x)\n",
        "        x_2 = self.pool(x_2)\n",
        "        x_3 = self.fourgram(x)\n",
        "        x_3 = self.pool(x_3)\n",
        "        \n",
        "        merged = tf.concat([x_1, x_2, x_3], axis=-1) # (batch_size, 3 * nb_filters)\n",
        "        merged = self.dense_1(merged)\n",
        "        merged = self.dropout(merged, training)\n",
        "        output = self.last_dense(merged)\n",
        "        \n",
        "        return output"
      ],
      "execution_count": 45,
      "outputs": []
    },
    {
      "cell_type": "code",
      "metadata": {
        "id": "lhfUFvWEPOIf",
        "colab_type": "code",
        "colab": {}
      },
      "source": [
        "NB_FILTERS = 100\n",
        "FFN_UNITS = 256\n",
        "NB_CLASSES = 2\n",
        "\n",
        "DROPOUT_RATE = 0.2\n",
        "\n",
        "BATCH_SIZE = 32\n",
        "NB_EPOCHS = 5"
      ],
      "execution_count": 46,
      "outputs": []
    },
    {
      "cell_type": "code",
      "metadata": {
        "id": "5HPbZ72KPPnX",
        "colab_type": "code",
        "colab": {}
      },
      "source": [
        "Dcnn = DCNNBERTEmbedding(nb_filters=NB_FILTERS,\n",
        "                         FFN_units=FFN_UNITS,\n",
        "                         nb_classes=NB_CLASSES,\n",
        "                         dropout_rate=DROPOUT_RATE)"
      ],
      "execution_count": 47,
      "outputs": []
    },
    {
      "cell_type": "code",
      "metadata": {
        "id": "JpHDseF0QLl3",
        "colab_type": "code",
        "colab": {}
      },
      "source": [
        "if NB_CLASSES == 2:\n",
        "    Dcnn.compile(loss=\"binary_crossentropy\",\n",
        "                 optimizer=\"adam\",\n",
        "                 metrics=[\"accuracy\"])\n",
        "else:\n",
        "    Dcnn.compile(loss=\"sparse_categorical_crossentropy\",\n",
        "                 optimizer=\"adam\",\n",
        "                 metrics=[\"sparse_categorical_accuracy\"])"
      ],
      "execution_count": 48,
      "outputs": []
    },
    {
      "cell_type": "code",
      "metadata": {
        "id": "K1hdT_JT2Rfi",
        "colab_type": "code",
        "colab": {
          "base_uri": "https://localhost:8080/",
          "height": 35
        },
        "outputId": "579eb957-f71c-47b2-eb52-137add561302"
      },
      "source": [
        "checkpoint_path = \"BERT/ckpt_bert_embedding/\"\n",
        "\n",
        "ckpt = tf.train.Checkpoint(Dcnn=Dcnn)\n",
        "\n",
        "ckpt_manager = tf.train.CheckpointManager(ckpt, checkpoint_path, max_to_keep=1)\n",
        "\n",
        "if ckpt_manager.latest_checkpoint:\n",
        "    ckpt.restore(ckpt_manager.latest_checkpoint)\n",
        "    print(\"Latest checkpoint restored!!\")"
      ],
      "execution_count": 49,
      "outputs": [
        {
          "output_type": "stream",
          "text": [
            "Latest checkpoint restored!!\n"
          ],
          "name": "stdout"
        }
      ]
    },
    {
      "cell_type": "code",
      "metadata": {
        "id": "e8LHztku2cjl",
        "colab_type": "code",
        "colab": {}
      },
      "source": [
        "class MyCustomCallback(tf.keras.callbacks.Callback):\n",
        "\n",
        "    def on_epoch_end(self, epoch, logs=None):\n",
        "        ckpt_manager.save()\n",
        "        print(\"Checkpoint saved at {}.\".format(checkpoint_path))"
      ],
      "execution_count": 50,
      "outputs": []
    },
    {
      "cell_type": "code",
      "metadata": {
        "id": "WrT8oWZzQNmW",
        "colab_type": "code",
        "colab": {
          "base_uri": "https://localhost:8080/",
          "height": 331
        },
        "outputId": "6808f30f-1a1c-4d7e-dca1-3e77b5a611a5"
      },
      "source": [
        "Dcnn.fit(train_dataset,\n",
        "         epochs=NB_EPOCHS,\n",
        "         callbacks=[MyCustomCallback()])"
      ],
      "execution_count": 51,
      "outputs": [
        {
          "output_type": "stream",
          "text": [
            "Epoch 1/5\n",
            "     26/Unknown - 2s 93ms/step - loss: 0.0809 - accuracy: 0.9730Checkpoint saved at BERT/ckpt_bert_embedding/.\n",
            "26/26 [==============================] - 4s 157ms/step - loss: 0.0809 - accuracy: 0.9730\n",
            "Epoch 2/5\n",
            "26/26 [==============================] - ETA: 0s - loss: 0.0163 - accuracy: 0.9988Checkpoint saved at BERT/ckpt_bert_embedding/.\n",
            "26/26 [==============================] - 4s 169ms/step - loss: 0.0163 - accuracy: 0.9988\n",
            "Epoch 3/5\n",
            "26/26 [==============================] - ETA: 0s - loss: 0.0149 - accuracy: 0.9975Checkpoint saved at BERT/ckpt_bert_embedding/.\n",
            "26/26 [==============================] - 5s 182ms/step - loss: 0.0149 - accuracy: 0.9975\n",
            "Epoch 4/5\n",
            "26/26 [==============================] - ETA: 0s - loss: 0.0135 - accuracy: 0.9963Checkpoint saved at BERT/ckpt_bert_embedding/.\n",
            "26/26 [==============================] - 4s 143ms/step - loss: 0.0135 - accuracy: 0.9963\n",
            "Epoch 5/5\n",
            "26/26 [==============================] - ETA: 0s - loss: 0.0063 - accuracy: 0.9988Checkpoint saved at BERT/ckpt_bert_embedding/.\n",
            "26/26 [==============================] - 10s 365ms/step - loss: 0.0063 - accuracy: 0.9988\n"
          ],
          "name": "stdout"
        },
        {
          "output_type": "execute_result",
          "data": {
            "text/plain": [
              "<tensorflow.python.keras.callbacks.History at 0x7f009dddf4e0>"
            ]
          },
          "metadata": {
            "tags": []
          },
          "execution_count": 51
        }
      ]
    },
    {
      "cell_type": "code",
      "metadata": {
        "id": "gQN-Y99WIf6m",
        "colab_type": "code",
        "colab": {
          "base_uri": "https://localhost:8080/",
          "height": 54
        },
        "outputId": "738645bd-4d5c-4549-a9d2-903c7286f4dd"
      },
      "source": [
        "results = Dcnn.evaluate(test_dataset)\n",
        "print(results)"
      ],
      "execution_count": 42,
      "outputs": [
        {
          "output_type": "stream",
          "text": [
            "2/2 [==============================] - 0s 45ms/step - loss: 0.5316 - accuracy: 0.7969\n",
            "[0.5315546989440918, 0.796875]\n"
          ],
          "name": "stdout"
        }
      ]
    },
    {
      "cell_type": "markdown",
      "metadata": {
        "id": "lpoTD4eeGNbP",
        "colab_type": "text"
      },
      "source": [
        "# **Result Analysis**"
      ]
    },
    {
      "cell_type": "code",
      "metadata": {
        "id": "Rj98dgxnmhak",
        "colab_type": "code",
        "colab": {}
      },
      "source": [
        "def get_prediction(sentence):\n",
        "    tokens = encode_sentence(sentence)\n",
        "\n",
        "    input_ids = get_ids(tokens)\n",
        "    input_mask = get_mask(tokens)\n",
        "    segment_ids = get_segments(tokens)\n",
        "\n",
        "    inputs = tf.stack(\n",
        "        [tf.cast(input_ids, dtype=tf.int32),\n",
        "         tf.cast(input_mask, dtype=tf.int32),\n",
        "         tf.cast(segment_ids, dtype=tf.int32)],\n",
        "         axis=0)\n",
        "    inputs = tf.expand_dims(inputs, 0) # simulates a batch\n",
        "\n",
        "    output = Dcnn(inputs, training=False)\n",
        "\n",
        "    sentiment = math.floor(output*2)\n",
        "\n",
        "    if sentiment == 0:\n",
        "        print(\"Output of the model: {}\\nPredicted sentiment: negative\".format(\n",
        "            output))\n",
        "    elif sentiment == 1:\n",
        "        print(\"Output of the model: {}\\nPredicted sentiment: positive\".format(\n",
        "            output))"
      ],
      "execution_count": 52,
      "outputs": []
    },
    {
      "cell_type": "code",
      "metadata": {
        "id": "J9jC8UnJgOjS",
        "colab_type": "code",
        "colab": {
          "base_uri": "https://localhost:8080/",
          "height": 54
        },
        "outputId": "b9996b4a-6dd0-49bd-ada3-7c01e6d29cf8"
      },
      "source": [
        "get_prediction(\"taniya is an amazing deep learning engineer.\")"
      ],
      "execution_count": 53,
      "outputs": [
        {
          "output_type": "stream",
          "text": [
            "Output of the model: [[0.99972934]]\n",
            "Predicted sentiment: positive\n"
          ],
          "name": "stdout"
        }
      ]
    },
    {
      "cell_type": "code",
      "metadata": {
        "id": "rNiujHXcEr1B",
        "colab_type": "code",
        "colab": {}
      },
      "source": [
        ""
      ],
      "execution_count": null,
      "outputs": []
    }
  ]
}