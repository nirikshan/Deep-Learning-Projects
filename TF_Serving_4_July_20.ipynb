{
  "nbformat": 4,
  "nbformat_minor": 0,
  "metadata": {
    "colab": {
      "name": "TF Serving 4 July 20.ipynb",
      "provenance": [],
      "collapsed_sections": [],
      "authorship_tag": "ABX9TyMgJJDuT6S8KwMAxv9owGhW",
      "include_colab_link": true
    },
    "kernelspec": {
      "name": "python3",
      "display_name": "Python 3"
    },
    "accelerator": "GPU"
  },
  "cells": [
    {
      "cell_type": "markdown",
      "metadata": {
        "id": "view-in-github",
        "colab_type": "text"
      },
      "source": [
        "<a href=\"https://colab.research.google.com/github/taniyasinghsisodia/Deep-Learning-Projects/blob/master/TF_Serving_4_July_20.ipynb\" target=\"_parent\"><img src=\"https://colab.research.google.com/assets/colab-badge.svg\" alt=\"Open In Colab\"/></a>"
      ]
    },
    {
      "cell_type": "code",
      "metadata": {
        "id": "YBDvby-8IGUR",
        "colab_type": "code",
        "colab": {}
      },
      "source": [
        "import tensorflow as tf"
      ],
      "execution_count": 1,
      "outputs": []
    },
    {
      "cell_type": "code",
      "metadata": {
        "id": "8EZJ0SICMlJr",
        "colab_type": "code",
        "colab": {
          "base_uri": "https://localhost:8080/",
          "height": 36
        },
        "outputId": "6dc2ddda-e7e2-49fd-94a4-383bf02e43ff"
      },
      "source": [
        "tf.__version__"
      ],
      "execution_count": 2,
      "outputs": [
        {
          "output_type": "execute_result",
          "data": {
            "application/vnd.google.colaboratory.intrinsic": {
              "type": "string"
            },
            "text/plain": [
              "'2.2.0'"
            ]
          },
          "metadata": {
            "tags": []
          },
          "execution_count": 2
        }
      ]
    },
    {
      "cell_type": "markdown",
      "metadata": {
        "id": "u-y01gGHNHP-",
        "colab_type": "text"
      },
      "source": [
        "# **Add the TensorFlow Serving distribution as a package source:**"
      ]
    },
    {
      "cell_type": "code",
      "metadata": {
        "id": "HPIrj19FMyGN",
        "colab_type": "code",
        "colab": {
          "base_uri": "https://localhost:8080/",
          "height": 129
        },
        "outputId": "3e532a6c-fb21-4000-93e0-62687665f593"
      },
      "source": [
        "!echo \"deb [arch=amd64] http://storage.googleapis.com/tensorflow-serving-apt stable tensorflow-model-server tensorflow-model-server-universal\" | sudo tee /etc/apt/sources.list.d/tensorflow-serving.list && \\\n",
        "curl https://storage.googleapis.com/tensorflow-serving-apt/tensorflow-serving.release.pub.gpg | sudo apt-key add -"
      ],
      "execution_count": 3,
      "outputs": [
        {
          "output_type": "stream",
          "text": [
            "deb [arch=amd64] http://storage.googleapis.com/tensorflow-serving-apt stable tensorflow-model-server tensorflow-model-server-universal\n",
            "  % Total    % Received % Xferd  Average Speed   Time    Time     Time  Current\n",
            "                                 Dload  Upload   Total   Spent    Left  Speed\n",
            "\r  0     0    0     0    0     0      0      0 --:--:-- --:--:-- --:--:--     0\r100  2943  100  2943    0     0  15408      0 --:--:-- --:--:-- --:--:-- 15408\n",
            "OK\n"
          ],
          "name": "stdout"
        }
      ]
    },
    {
      "cell_type": "code",
      "metadata": {
        "id": "N4v3KUibNxxp",
        "colab_type": "code",
        "colab": {
          "base_uri": "https://localhost:8080/",
          "height": 570
        },
        "outputId": "378e853a-78c2-4f90-92a2-14114e2b0d33"
      },
      "source": [
        "!sudo apt-get update"
      ],
      "execution_count": 4,
      "outputs": [
        {
          "output_type": "stream",
          "text": [
            "\r0% [Working]\r            \rGet:1 http://storage.googleapis.com/tensorflow-serving-apt stable InRelease [3,012 B]\n",
            "\r0% [Connecting to archive.ubuntu.com (91.189.88.142)] [Connecting to security.u\r0% [Connecting to archive.ubuntu.com (91.189.88.142)] [Connecting to security.u\r0% [1 InRelease gpgv 3,012 B] [Connecting to archive.ubuntu.com (91.189.88.142)\r                                                                               \rIgn:2 https://developer.download.nvidia.com/compute/cuda/repos/ubuntu1804/x86_64  InRelease\n",
            "\r0% [1 InRelease gpgv 3,012 B] [Connecting to archive.ubuntu.com (91.189.88.142)\r                                                                               \rIgn:3 https://developer.download.nvidia.com/compute/machine-learning/repos/ubuntu1804/x86_64  InRelease\n",
            "\r0% [1 InRelease gpgv 3,012 B] [Waiting for headers] [Waiting for headers] [Wait\r0% [Waiting for headers] [Waiting for headers] [Waiting for headers] [Waiting f\r                                                                               \rHit:4 https://developer.download.nvidia.com/compute/cuda/repos/ubuntu1804/x86_64  Release\n",
            "\r0% [Waiting for headers] [Waiting for headers] [Waiting for headers] [Waiting f\r0% [Release.gpg gpgv 697 B] [Waiting for headers] [Waiting for headers] [Waitin\r                                                                               \rGet:5 https://developer.download.nvidia.com/compute/machine-learning/repos/ubuntu1804/x86_64  Release [564 B]\n",
            "\r0% [Release.gpg gpgv 697 B] [Waiting for headers] [Waiting for headers] [Waitin\r                                                                               \rGet:6 https://cloud.r-project.org/bin/linux/ubuntu bionic-cran35/ InRelease [3,626 B]\n",
            "\r0% [Release.gpg gpgv 697 B] [Waiting for headers] [Waiting for headers] [Waitin\r                                                                               \rGet:7 https://developer.download.nvidia.com/compute/machine-learning/repos/ubuntu1804/x86_64  Release.gpg [833 B]\n",
            "\r0% [Release.gpg gpgv 697 B] [Waiting for headers] [Waiting for headers] [Waitin\r0% [Waiting for headers] [Waiting for headers] [Waiting for headers] [Waiting f\r0% [6 InRelease gpgv 3,626 B] [Waiting for headers] [Waiting for headers] [Wait\r                                                                               \rHit:9 http://archive.ubuntu.com/ubuntu bionic InRelease\n",
            "\r0% [6 InRelease gpgv 3,626 B] [Waiting for headers] [Waiting for headers] [Wait\r                                                                               \rGet:10 http://security.ubuntu.com/ubuntu bionic-security InRelease [88.7 kB]\n",
            "\r0% [6 InRelease gpgv 3,626 B] [Waiting for headers] [10 InRelease 14.2 kB/88.7 \r                                                                               \rHit:11 http://ppa.launchpad.net/graphics-drivers/ppa/ubuntu bionic InRelease\n",
            "\r0% [6 InRelease gpgv 3,626 B] [Waiting for headers] [10 InRelease 14.2 kB/88.7 \r                                                                               \rGet:12 http://storage.googleapis.com/tensorflow-serving-apt stable/tensorflow-model-server amd64 Packages [341 B]\n",
            "\r0% [6 InRelease gpgv 3,626 B] [Waiting for headers] [10 InRelease 14.2 kB/88.7 \r0% [Waiting for headers] [10 InRelease 14.2 kB/88.7 kB 16%] [Connecting to ppa.\r0% [7 Release.gpg gpgv 564 B] [Waiting for headers] [10 InRelease 14.2 kB/88.7 \r0% [12 Packages store 0 B] [7 Release.gpg gpgv 564 B] [Waiting for headers] [10\r0% [7 Release.gpg gpgv 564 B] [Waiting for headers] [10 InRelease 14.2 kB/88.7 \r0% [Waiting for headers] [10 InRelease 14.2 kB/88.7 kB 16%] [Waiting for header\r0% [9 InRelease gpgv 242 kB] [Waiting for headers] [10 InRelease 14.2 kB/88.7 k\r                                                                               \rGet:13 https://developer.download.nvidia.com/compute/machine-learning/repos/ubuntu1804/x86_64  Packages [40.0 kB]\n",
            "\r0% [9 InRelease gpgv 242 kB] [Waiting for headers] [10 InRelease 14.2 kB/88.7 k\r0% [13 Packages store 0 B] [9 InRelease gpgv 242 kB] [Waiting for headers] [10 \r0% [9 InRelease gpgv 242 kB] [Waiting for headers] [10 InRelease 14.2 kB/88.7 k\r                                                                               \rGet:14 https://cloud.r-project.org/bin/linux/ubuntu bionic-cran35/ Packages [93.7 kB]\n",
            "\r0% [9 InRelease gpgv 242 kB] [Waiting for headers] [10 InRelease 14.2 kB/88.7 k\r                                                                               \rGet:15 http://archive.ubuntu.com/ubuntu bionic-updates InRelease [88.7 kB]\n",
            "\r0% [9 InRelease gpgv 242 kB] [15 InRelease 14.2 kB/88.7 kB 16%] [10 InRelease 1\r                                                                               \rGet:16 http://storage.googleapis.com/tensorflow-serving-apt stable/tensorflow-model-server-universal amd64 Packages [349 B]\n",
            "\r0% [9 InRelease gpgv 242 kB] [15 InRelease 15.6 kB/88.7 kB 18%] [10 InRelease 4\r0% [9 InRelease gpgv 242 kB] [15 InRelease 15.6 kB/88.7 kB 18%] [10 InRelease 4\r0% [9 InRelease gpgv 242 kB] [15 InRelease 15.6 kB/88.7 kB 18%] [10 InRelease 4\r0% [15 InRelease 15.6 kB/88.7 kB 18%] [10 InRelease 43.1 kB/88.7 kB 49%] [14 Pa\r0% [15 InRelease 15.6 kB/88.7 kB 18%] [10 InRelease 43.1 kB/88.7 kB 49%] [Waiti\r0% [11 InRelease gpgv 21.3 kB] [15 InRelease 15.6 kB/88.7 kB 18%] [10 InRelease\r0% [14 Packages store 0 B] [11 InRelease gpgv 21.3 kB] [15 InRelease 15.6 kB/88\r0% [11 InRelease gpgv 21.3 kB] [15 InRelease 15.6 kB/88.7 kB 18%] [10 InRelease\r0% [15 InRelease 15.6 kB/88.7 kB 18%] [10 InRelease 43.1 kB/88.7 kB 49%] [Waiti\r                                                                               \rGet:17 http://ppa.launchpad.net/marutter/c2d4u3.5/ubuntu bionic InRelease [15.4 kB]\n",
            "\r0% [15 InRelease 43.1 kB/88.7 kB 49%] [10 InRelease 46.0 kB/88.7 kB 52%] [17 In\r                                                                               \r0% [15 InRelease 47.5 kB/88.7 kB 54%] [10 InRelease 54.7 kB/88.7 kB 62%]\r0% [17 InRelease gpgv 15.4 kB] [15 InRelease 47.5 kB/88.7 kB 54%] [10 InRelease\r                                                                               \r0% [15 InRelease 47.5 kB/88.7 kB 54%] [10 InRelease 88.7 kB/88.7 kB 100%]\r                                                                         \r0% [15 InRelease 47.5 kB/88.7 kB 54%]\r0% [10 InRelease gpgv 88.7 kB] [15 InRelease 47.5 kB/88.7 kB 54%] [Connecting t\r0% [15 InRelease 64.9 kB/88.7 kB 73%] [Connecting to ppa.launchpad.net (91.189.\r                                                                               \r0% [Waiting for headers] [Connecting to ppa.launchpad.net (91.189.95.83)]\r0% [15 InRelease gpgv 88.7 kB] [Waiting for headers] [Waiting for headers] [Con\r                                                                               \r0% [Waiting for headers] [Waiting for headers] [Waiting for headers]\r                                                                    \rGet:18 http://security.ubuntu.com/ubuntu bionic-security/universe amd64 Packages [866 kB]\n",
            "\r0% [Waiting for headers] [18 Packages 2,687 B/866 kB 0%] [Waiting for headers]\r                                                                              \rGet:19 http://archive.ubuntu.com/ubuntu bionic-backports InRelease [74.6 kB]\n",
            "\r0% [19 InRelease 2,604 B/74.6 kB 3%] [18 Packages 28.8 kB/866 kB 3%] [Waiting f\r                                                                               \rGet:20 http://ppa.launchpad.net/marutter/c2d4u3.5/ubuntu bionic/main Sources [1,843 kB]\n",
            "\r0% [19 InRelease 20.0 kB/74.6 kB 27%] [18 Packages 46.1 kB/866 kB 5%] [20 Sourc\r                                                                               \r0% [18 Packages 101 kB/866 kB 12%] [20 Sources 14.3 kB/1,843 kB 1%]\r0% [19 InRelease gpgv 74.6 kB] [18 Packages 101 kB/866 kB 12%] [20 Sources 14.3\r23% [Waiting for headers] [18 Packages 153 kB/866 kB 18%] [20 Sources 25.9 kB/1\r                                                                               \rGet:21 http://archive.ubuntu.com/ubuntu bionic-updates/restricted amd64 Packages [101 kB]\n",
            "\r23% [21 Packages 2,687 B/101 kB 3%] [18 Packages 208 kB/866 kB 24%] [20 Sources\r27% [Waiting for headers] [18 Packages 417 kB/866 kB 48%] [20 Sources 66.4 kB/1\r                                                                               \rGet:22 http://archive.ubuntu.com/ubuntu bionic-updates/multiverse amd64 Packages [13.6 kB]\n",
            "\r27% [22 Packages 1,777 B/13.6 kB 13%] [18 Packages 420 kB/866 kB 48%] [20 Sourc\r27% [21 Packages store 0 B] [22 Packages 1,777 B/13.6 kB 13%] [18 Packages 420 \r27% [22 Packages 10.5 kB/13.6 kB 77%] [18 Packages 437 kB/866 kB 50%] [20 Sourc\r                                                                               \r27% [18 Packages 449 kB/866 kB 52%] [20 Sources 72.2 kB/1,843 kB 4%]\r                                                                    \rGet:23 http://archive.ubuntu.com/ubuntu bionic-updates/universe amd64 Packages [1,404 kB]\n",
            "\r28% [22 Packages store 0 B] [23 Packages 2,408 B/1,404 kB 0%] [18 Packages 449 \r28% [23 Packages 5,304 B/1,404 kB 0%] [18 Packages 454 kB/866 kB 52%] [20 Sourc\r                                                                               \r34% [23 Packages 110 kB/1,404 kB 8%] [20 Sources 133 kB/1,843 kB 7%]\r34% [18 Packages store 0 B] [23 Packages 110 kB/1,404 kB 8%] [Waiting for heade\r36% [23 Packages 263 kB/1,404 kB 19%] [Waiting for headers] [20 Sources 188 kB/\r                                                                               \rGet:24 http://security.ubuntu.com/ubuntu bionic-security/main amd64 Packages [993 kB]\n",
            "\r38% [23 Packages 405 kB/1,404 kB 29%] [24 Packages 8,479 B/993 kB 1%] [20 Sourc\r                                                                               \r57% [23 Packages 1,004 kB/1,404 kB 72%] [20 Sources 509 kB/1,843 kB 28%]\r58% [24 Packages store 0 B] [23 Packages 1,039 kB/1,404 kB 74%] [20 Sources 524\r                                                                               \rGet:25 http://security.ubuntu.com/ubuntu bionic-security/restricted amd64 Packages [87.8 kB]\n",
            "\r58% [24 Packages store 0 B] [23 Packages 1,087 kB/1,404 kB 77%] [25 Packages 16\r59% [24 Packages store 0 B] [23 Packages 1,087 kB/1,404 kB 77%] [20 Sources 544\r                                                                               \rGet:26 http://security.ubuntu.com/ubuntu bionic-security/multiverse amd64 Packages [9,282 B]\n",
            "\r59% [24 Packages store 0 B] [23 Packages 1,087 kB/1,404 kB 77%] [26 Packages 9,\r59% [24 Packages store 0 B] [23 Packages 1,087 kB/1,404 kB 77%] [20 Sources 544\r                                                                               \r64% [24 Packages store 0 B] [20 Sources 702 kB/1,843 kB 38%]\r                                                            \rGet:27 http://archive.ubuntu.com/ubuntu bionic-updates/main amd64 Packages [1,292 kB]\n",
            "Get:28 http://ppa.launchpad.net/marutter/c2d4u3.5/ubuntu bionic/main amd64 Packages [889 kB]\n",
            "Fetched 7,909 kB in 3s (2,571 kB/s)\n",
            "Reading package lists... Done\n"
          ],
          "name": "stdout"
        }
      ]
    },
    {
      "cell_type": "code",
      "metadata": {
        "id": "tEO64s9BNA-M",
        "colab_type": "code",
        "colab": {
          "base_uri": "https://localhost:8080/",
          "height": 496
        },
        "outputId": "feb80fd0-caf0-4215-d111-79fccd822d7f"
      },
      "source": [
        "!sudo apt-get install tensorflow-model-server"
      ],
      "execution_count": 5,
      "outputs": [
        {
          "output_type": "stream",
          "text": [
            "Reading package lists... Done\n",
            "Building dependency tree       \n",
            "Reading state information... Done\n",
            "The following package was automatically installed and is no longer required:\n",
            "  libnvidia-common-440\n",
            "Use 'sudo apt autoremove' to remove it.\n",
            "The following NEW packages will be installed:\n",
            "  tensorflow-model-server\n",
            "0 upgraded, 1 newly installed, 0 to remove and 43 not upgraded.\n",
            "Need to get 187 MB of archives.\n",
            "After this operation, 0 B of additional disk space will be used.\n",
            "Get:1 http://storage.googleapis.com/tensorflow-serving-apt stable/tensorflow-model-server amd64 tensorflow-model-server all 2.2.0 [187 MB]\n",
            "Fetched 187 MB in 2s (75.2 MB/s)\n",
            "debconf: unable to initialize frontend: Dialog\n",
            "debconf: (No usable dialog-like program is installed, so the dialog based frontend cannot be used. at /usr/share/perl5/Debconf/FrontEnd/Dialog.pm line 76, <> line 1.)\n",
            "debconf: falling back to frontend: Readline\n",
            "debconf: unable to initialize frontend: Readline\n",
            "debconf: (This frontend requires a controlling tty.)\n",
            "debconf: falling back to frontend: Teletype\n",
            "dpkg-preconfigure: unable to re-open stdin: \n",
            "Selecting previously unselected package tensorflow-model-server.\n",
            "(Reading database ... 144379 files and directories currently installed.)\n",
            "Preparing to unpack .../tensorflow-model-server_2.2.0_all.deb ...\n",
            "Unpacking tensorflow-model-server (2.2.0) ...\n",
            "Setting up tensorflow-model-server (2.2.0) ...\n"
          ],
          "name": "stdout"
        }
      ]
    },
    {
      "cell_type": "code",
      "metadata": {
        "id": "VXixPKuRNe-t",
        "colab_type": "code",
        "colab": {
          "base_uri": "https://localhost:8080/",
          "height": 54
        },
        "outputId": "7b111b64-6817-4e10-987d-15e683134c55"
      },
      "source": [
        "from tensorflow.keras import datasets\n",
        "\n",
        "# loading dataset\n",
        "(train_images, train_labels), (test_images, test_labels) = datasets.mnist.load_data()\n",
        "\n",
        "# For training, we will use 10000 images \n",
        "# And we will test our model on 1000 images\n",
        "train_labels = train_labels[:10000]\n",
        "test_labels = test_labels[:1000]\n",
        "\n",
        "train_images = train_images[:10000].reshape(-1, 28 * 28) / 255.0\n",
        "test_images = test_images[:1000].reshape(-1, 28 * 28) / 255.0"
      ],
      "execution_count": 6,
      "outputs": [
        {
          "output_type": "stream",
          "text": [
            "Downloading data from https://storage.googleapis.com/tensorflow/tf-keras-datasets/mnist.npz\n",
            "11493376/11490434 [==============================] - 0s 0us/step\n"
          ],
          "name": "stdout"
        }
      ]
    },
    {
      "cell_type": "code",
      "metadata": {
        "id": "R2wLsYvKONBX",
        "colab_type": "code",
        "colab": {
          "base_uri": "https://localhost:8080/",
          "height": 35
        },
        "outputId": "ee5d5510-52d9-4da7-ab8b-9f382c7114e9"
      },
      "source": [
        "train_images.shape"
      ],
      "execution_count": 7,
      "outputs": [
        {
          "output_type": "execute_result",
          "data": {
            "text/plain": [
              "(10000, 784)"
            ]
          },
          "metadata": {
            "tags": []
          },
          "execution_count": 7
        }
      ]
    },
    {
      "cell_type": "code",
      "metadata": {
        "id": "n5ZzWFOxOUr8",
        "colab_type": "code",
        "colab": {
          "base_uri": "https://localhost:8080/",
          "height": 35
        },
        "outputId": "951f8f3a-2f7d-45f1-a8cb-1268e38ca11e"
      },
      "source": [
        "len(train_labels)"
      ],
      "execution_count": 8,
      "outputs": [
        {
          "output_type": "execute_result",
          "data": {
            "text/plain": [
              "10000"
            ]
          },
          "metadata": {
            "tags": []
          },
          "execution_count": 8
        }
      ]
    },
    {
      "cell_type": "code",
      "metadata": {
        "id": "YrfeQXaeOgi0",
        "colab_type": "code",
        "colab": {}
      },
      "source": [
        "input_ = tf.keras.layers.Input((784,))\n",
        "x = tf.keras.layers.Dense(units=512,activation='relu')(input_)\n",
        "output = tf.keras.layers.Dense(units = 10 ,activation='softmax')(x)\n"
      ],
      "execution_count": 9,
      "outputs": []
    },
    {
      "cell_type": "code",
      "metadata": {
        "id": "9VUDBajTPzWs",
        "colab_type": "code",
        "colab": {}
      },
      "source": [
        "model = tf.keras.models.Model(inputs=input_,outputs=output)"
      ],
      "execution_count": 10,
      "outputs": []
    },
    {
      "cell_type": "code",
      "metadata": {
        "id": "uPninwD9QhIn",
        "colab_type": "code",
        "colab": {
          "base_uri": "https://localhost:8080/",
          "height": 274
        },
        "outputId": "a1060c7e-fa52-4386-9551-974ce0c7c2fe"
      },
      "source": [
        "model.summary()"
      ],
      "execution_count": 11,
      "outputs": [
        {
          "output_type": "stream",
          "text": [
            "Model: \"model\"\n",
            "_________________________________________________________________\n",
            "Layer (type)                 Output Shape              Param #   \n",
            "=================================================================\n",
            "input_1 (InputLayer)         [(None, 784)]             0         \n",
            "_________________________________________________________________\n",
            "dense (Dense)                (None, 512)               401920    \n",
            "_________________________________________________________________\n",
            "dense_1 (Dense)              (None, 10)                5130      \n",
            "=================================================================\n",
            "Total params: 407,050\n",
            "Trainable params: 407,050\n",
            "Non-trainable params: 0\n",
            "_________________________________________________________________\n"
          ],
          "name": "stdout"
        }
      ]
    },
    {
      "cell_type": "markdown",
      "metadata": {
        "id": "XnSanRCbRhni",
        "colab_type": "text"
      },
      "source": [
        ""
      ]
    },
    {
      "cell_type": "code",
      "metadata": {
        "id": "BPuEzeN3QkWR",
        "colab_type": "code",
        "colab": {}
      },
      "source": [
        "model.compile(optimizer='adam',loss='sparse_categorical_crossentropy',metrics=['accuracy'])"
      ],
      "execution_count": 12,
      "outputs": []
    },
    {
      "cell_type": "code",
      "metadata": {
        "id": "Z5U4qh74Rk2Z",
        "colab_type": "code",
        "colab": {
          "base_uri": "https://localhost:8080/",
          "height": 423
        },
        "outputId": "f9a0d3e1-8e6a-4e99-dd31-1efd74005f92"
      },
      "source": [
        "model.fit(train_images,train_labels,epochs=10, validation_data=(test_images,test_labels))"
      ],
      "execution_count": 13,
      "outputs": [
        {
          "output_type": "stream",
          "text": [
            "Epoch 1/10\n",
            "313/313 [==============================] - 1s 3ms/step - loss: 0.4119 - accuracy: 0.8824 - val_loss: 0.2721 - val_accuracy: 0.9130\n",
            "Epoch 2/10\n",
            "313/313 [==============================] - 1s 2ms/step - loss: 0.1756 - accuracy: 0.9494 - val_loss: 0.2161 - val_accuracy: 0.9320\n",
            "Epoch 3/10\n",
            "313/313 [==============================] - 1s 2ms/step - loss: 0.1102 - accuracy: 0.9669 - val_loss: 0.1773 - val_accuracy: 0.9420\n",
            "Epoch 4/10\n",
            "313/313 [==============================] - 1s 2ms/step - loss: 0.0743 - accuracy: 0.9785 - val_loss: 0.1417 - val_accuracy: 0.9560\n",
            "Epoch 5/10\n",
            "313/313 [==============================] - 1s 2ms/step - loss: 0.0479 - accuracy: 0.9870 - val_loss: 0.1557 - val_accuracy: 0.9460\n",
            "Epoch 6/10\n",
            "313/313 [==============================] - 1s 2ms/step - loss: 0.0328 - accuracy: 0.9926 - val_loss: 0.1787 - val_accuracy: 0.9470\n",
            "Epoch 7/10\n",
            "313/313 [==============================] - 1s 2ms/step - loss: 0.0199 - accuracy: 0.9962 - val_loss: 0.1327 - val_accuracy: 0.9570\n",
            "Epoch 8/10\n",
            "313/313 [==============================] - 1s 2ms/step - loss: 0.0133 - accuracy: 0.9975 - val_loss: 0.1390 - val_accuracy: 0.9550\n",
            "Epoch 9/10\n",
            "313/313 [==============================] - 1s 2ms/step - loss: 0.0074 - accuracy: 0.9991 - val_loss: 0.1612 - val_accuracy: 0.9560\n",
            "Epoch 10/10\n",
            "313/313 [==============================] - 1s 2ms/step - loss: 0.0114 - accuracy: 0.9978 - val_loss: 0.1231 - val_accuracy: 0.9610\n"
          ],
          "name": "stdout"
        },
        {
          "output_type": "execute_result",
          "data": {
            "text/plain": [
              "<tensorflow.python.keras.callbacks.History at 0x7f2620472588>"
            ]
          },
          "metadata": {
            "tags": []
          },
          "execution_count": 13
        }
      ]
    },
    {
      "cell_type": "code",
      "metadata": {
        "id": "UiAQry5VSP0O",
        "colab_type": "code",
        "colab": {
          "base_uri": "https://localhost:8080/",
          "height": 54
        },
        "outputId": "8df2f410-80cc-446c-cca0-89d7d109dae0"
      },
      "source": [
        "loss, acc = model.evaluate(test_images,  test_labels, verbose=2)\n",
        "print(\"model, accuracy: {:5.2f}%\".format(100*acc))"
      ],
      "execution_count": 14,
      "outputs": [
        {
          "output_type": "stream",
          "text": [
            "32/32 - 0s - loss: 0.1231 - accuracy: 0.9610\n",
            "model, accuracy: 96.10%\n"
          ],
          "name": "stdout"
        }
      ]
    },
    {
      "cell_type": "markdown",
      "metadata": {
        "id": "CeGVqRk8dObd",
        "colab_type": "text"
      },
      "source": [
        "# **Saving a Model**"
      ]
    },
    {
      "cell_type": "code",
      "metadata": {
        "id": "iV4nhR1aS2Ya",
        "colab_type": "code",
        "colab": {
          "base_uri": "https://localhost:8080/",
          "height": 182
        },
        "outputId": "b74133b4-63e2-4a92-d391-fcc191ab53c4"
      },
      "source": [
        "import tempfile\n",
        "import os\n",
        "MODEL_DIR = tempfile.gettempdir()\n",
        "version = 1\n",
        "export_path = os.path.join(MODEL_DIR, str(version))\n",
        "print('export_path = {}\\n'.format(export_path))\n",
        "\n",
        "tf.keras.models.save_model(\n",
        "    model,\n",
        "    export_path,\n",
        "    overwrite=True,\n",
        "    include_optimizer=True,\n",
        "    save_format=None,\n",
        "    signatures=None,\n",
        "    options=None\n",
        ")\n",
        "\n",
        "print('\\nSaved model:')\n",
        "!ls -l {export_path}"
      ],
      "execution_count": 29,
      "outputs": [
        {
          "output_type": "stream",
          "text": [
            "export_path = /tmp/1\n",
            "\n",
            "INFO:tensorflow:Assets written to: /tmp/1/assets\n",
            "\n",
            "Saved model:\n",
            "total 76\n",
            "drwxr-xr-x 2 root root  4096 Jul  4 06:12 assets\n",
            "-rw-r--r-- 1 root root 69025 Jul  4 06:12 saved_model.pb\n",
            "drwxr-xr-x 2 root root  4096 Jul  4 06:12 variables\n"
          ],
          "name": "stdout"
        }
      ]
    },
    {
      "cell_type": "code",
      "metadata": {
        "id": "2tHOJjOCdZBG",
        "colab_type": "code",
        "colab": {
          "base_uri": "https://localhost:8080/",
          "height": 1000
        },
        "outputId": "0a3d68e2-52a3-4f86-8df9-4e36ba7855a2"
      },
      "source": [
        "!saved_model_cli show --dir {export_path} --all"
      ],
      "execution_count": 30,
      "outputs": [
        {
          "output_type": "stream",
          "text": [
            "\n",
            "MetaGraphDef with tag-set: 'serve' contains the following SignatureDefs:\n",
            "\n",
            "signature_def['__saved_model_init_op']:\n",
            "  The given SavedModel SignatureDef contains the following input(s):\n",
            "  The given SavedModel SignatureDef contains the following output(s):\n",
            "    outputs['__saved_model_init_op'] tensor_info:\n",
            "        dtype: DT_INVALID\n",
            "        shape: unknown_rank\n",
            "        name: NoOp\n",
            "  Method name is: \n",
            "\n",
            "signature_def['serving_default']:\n",
            "  The given SavedModel SignatureDef contains the following input(s):\n",
            "    inputs['input_1'] tensor_info:\n",
            "        dtype: DT_FLOAT\n",
            "        shape: (-1, 784)\n",
            "        name: serving_default_input_1:0\n",
            "  The given SavedModel SignatureDef contains the following output(s):\n",
            "    outputs['dense_1'] tensor_info:\n",
            "        dtype: DT_FLOAT\n",
            "        shape: (-1, 10)\n",
            "        name: StatefulPartitionedCall:0\n",
            "  Method name is: tensorflow/serving/predict\n",
            "WARNING: Logging before flag parsing goes to stderr.\n",
            "W0704 06:13:52.397833 140585204000640 deprecation.py:506] From /usr/local/lib/python2.7/dist-packages/tensorflow_core/python/ops/resource_variable_ops.py:1786: calling __init__ (from tensorflow.python.ops.resource_variable_ops) with constraint is deprecated and will be removed in a future version.\n",
            "Instructions for updating:\n",
            "If using Keras pass *_constraint arguments to layers.\n",
            "\n",
            "Defined Functions:\n",
            "  Function Name: '__call__'\n",
            "    Option #1\n",
            "      Callable with:\n",
            "        Argument #1\n",
            "          input_1: TensorSpec(shape=(None, 784), dtype=tf.float32, name=u'input_1')\n",
            "        Argument #2\n",
            "          DType: bool\n",
            "          Value: True\n",
            "        Argument #3\n",
            "          DType: NoneType\n",
            "          Value: None\n",
            "    Option #2\n",
            "      Callable with:\n",
            "        Argument #1\n",
            "          inputs: TensorSpec(shape=(None, 784), dtype=tf.float32, name=u'inputs')\n",
            "        Argument #2\n",
            "          DType: bool\n",
            "          Value: True\n",
            "        Argument #3\n",
            "          DType: NoneType\n",
            "          Value: None\n",
            "    Option #3\n",
            "      Callable with:\n",
            "        Argument #1\n",
            "          input_1: TensorSpec(shape=(None, 784), dtype=tf.float32, name=u'input_1')\n",
            "        Argument #2\n",
            "          DType: bool\n",
            "          Value: False\n",
            "        Argument #3\n",
            "          DType: NoneType\n",
            "          Value: None\n",
            "    Option #4\n",
            "      Callable with:\n",
            "        Argument #1\n",
            "          inputs: TensorSpec(shape=(None, 784), dtype=tf.float32, name=u'inputs')\n",
            "        Argument #2\n",
            "          DType: bool\n",
            "          Value: False\n",
            "        Argument #3\n",
            "          DType: NoneType\n",
            "          Value: None\n",
            "\n",
            "  Function Name: '_default_save_signature'\n",
            "    Option #1\n",
            "      Callable with:\n",
            "        Argument #1\n",
            "          input_1: TensorSpec(shape=(None, 784), dtype=tf.float32, name=u'input_1')\n",
            "\n",
            "  Function Name: 'call_and_return_all_conditional_losses'\n",
            "    Option #1\n",
            "      Callable with:\n",
            "        Argument #1\n",
            "          input_1: TensorSpec(shape=(None, 784), dtype=tf.float32, name=u'input_1')\n",
            "        Argument #2\n",
            "          DType: bool\n",
            "          Value: False\n",
            "        Argument #3\n",
            "          DType: NoneType\n",
            "          Value: None\n",
            "    Option #2\n",
            "      Callable with:\n",
            "        Argument #1\n",
            "          inputs: TensorSpec(shape=(None, 784), dtype=tf.float32, name=u'inputs')\n",
            "        Argument #2\n",
            "          DType: bool\n",
            "          Value: True\n",
            "        Argument #3\n",
            "          DType: NoneType\n",
            "          Value: None\n",
            "    Option #3\n",
            "      Callable with:\n",
            "        Argument #1\n",
            "          input_1: TensorSpec(shape=(None, 784), dtype=tf.float32, name=u'input_1')\n",
            "        Argument #2\n",
            "          DType: bool\n",
            "          Value: True\n",
            "        Argument #3\n",
            "          DType: NoneType\n",
            "          Value: None\n",
            "    Option #4\n",
            "      Callable with:\n",
            "        Argument #1\n",
            "          inputs: TensorSpec(shape=(None, 784), dtype=tf.float32, name=u'inputs')\n",
            "        Argument #2\n",
            "          DType: bool\n",
            "          Value: False\n",
            "        Argument #3\n",
            "          DType: NoneType\n",
            "          Value: None\n"
          ],
          "name": "stdout"
        }
      ]
    },
    {
      "cell_type": "code",
      "metadata": {
        "id": "fQxNQN8tdim0",
        "colab_type": "code",
        "colab": {
          "base_uri": "https://localhost:8080/",
          "height": 441
        },
        "outputId": "d8e9098c-28dc-484d-a468-9b2c4104f7cc"
      },
      "source": [
        "!echo \"deb http://storage.googleapis.com/tensorflow-serving-apt stable tensorflow-model-server tensorflow-model-server-universal\" | tee /etc/apt/sources.list.d/tensorflow-serving.list && \\\n",
        "curl https://storage.googleapis.com/tensorflow-serving-apt/tensorflow-serving.release.pub.gpg | apt-key add -\n",
        "!apt update"
      ],
      "execution_count": 31,
      "outputs": [
        {
          "output_type": "stream",
          "text": [
            "deb http://storage.googleapis.com/tensorflow-serving-apt stable tensorflow-model-server tensorflow-model-server-universal\n",
            "  % Total    % Received % Xferd  Average Speed   Time    Time     Time  Current\n",
            "                                 Dload  Upload   Total   Spent    Left  Speed\n",
            "\r  0     0    0     0    0     0      0      0 --:--:-- --:--:-- --:--:--     0\r100  2943  100  2943    0     0   114k      0 --:--:-- --:--:-- --:--:--  114k\n",
            "OK\n",
            "Hit:1 http://storage.googleapis.com/tensorflow-serving-apt stable InRelease\n",
            "Ign:2 https://developer.download.nvidia.com/compute/cuda/repos/ubuntu1804/x86_64  InRelease\n",
            "Ign:3 https://developer.download.nvidia.com/compute/machine-learning/repos/ubuntu1804/x86_64  InRelease\n",
            "Hit:4 https://developer.download.nvidia.com/compute/cuda/repos/ubuntu1804/x86_64  Release\n",
            "Hit:5 https://developer.download.nvidia.com/compute/machine-learning/repos/ubuntu1804/x86_64  Release\n",
            "Hit:6 https://cloud.r-project.org/bin/linux/ubuntu bionic-cran35/ InRelease\n",
            "Hit:7 http://ppa.launchpad.net/graphics-drivers/ppa/ubuntu bionic InRelease\n",
            "Get:8 http://security.ubuntu.com/ubuntu bionic-security InRelease [88.7 kB]\n",
            "Hit:9 http://archive.ubuntu.com/ubuntu bionic InRelease\n",
            "Get:11 http://archive.ubuntu.com/ubuntu bionic-updates InRelease [88.7 kB]\n",
            "Hit:13 http://ppa.launchpad.net/marutter/c2d4u3.5/ubuntu bionic InRelease\n",
            "Get:14 http://archive.ubuntu.com/ubuntu bionic-backports InRelease [74.6 kB]\n",
            "Fetched 252 kB in 1s (179 kB/s)\n",
            "Reading package lists... Done\n",
            "Building dependency tree       \n",
            "Reading state information... Done\n",
            "43 packages can be upgraded. Run 'apt list --upgradable' to see them.\n"
          ],
          "name": "stdout"
        }
      ]
    },
    {
      "cell_type": "code",
      "metadata": {
        "id": "t6VlTybYdpab",
        "colab_type": "code",
        "colab": {
          "base_uri": "https://localhost:8080/",
          "height": 164
        },
        "outputId": "62275edb-4e4e-4553-b6e8-6b80b0b5d908"
      },
      "source": [
        "!apt-get install tensorflow-model-server"
      ],
      "execution_count": 32,
      "outputs": [
        {
          "output_type": "stream",
          "text": [
            "Reading package lists... Done\n",
            "Building dependency tree       \n",
            "Reading state information... Done\n",
            "tensorflow-model-server is already the newest version (2.2.0).\n",
            "The following package was automatically installed and is no longer required:\n",
            "  libnvidia-common-440\n",
            "Use 'apt autoremove' to remove it.\n",
            "0 upgraded, 0 newly installed, 0 to remove and 43 not upgraded.\n"
          ],
          "name": "stdout"
        }
      ]
    },
    {
      "cell_type": "code",
      "metadata": {
        "id": "exTPJcAEds1R",
        "colab_type": "code",
        "colab": {}
      },
      "source": [
        "os.environ[\"MODEL_DIR\"] = MODEL_DIR"
      ],
      "execution_count": 33,
      "outputs": []
    },
    {
      "cell_type": "code",
      "metadata": {
        "id": "bv2V51Kndv_t",
        "colab_type": "code",
        "colab": {
          "base_uri": "https://localhost:8080/",
          "height": 35
        },
        "outputId": "8dd655e7-9103-41a1-c864-2313e7092054"
      },
      "source": [
        "%%bash --bg \n",
        "nohup tensorflow_model_server \\\n",
        "  --rest_api_port=8501 \\\n",
        "  --model_name=fashion_model \\\n",
        "  --model_base_path=\"${MODEL_DIR}\" >server.log 2>&1"
      ],
      "execution_count": 34,
      "outputs": [
        {
          "output_type": "stream",
          "text": [
            "Starting job # 0 in a separate thread.\n"
          ],
          "name": "stdout"
        }
      ]
    },
    {
      "cell_type": "code",
      "metadata": {
        "id": "3Zj16Xkzdyyv",
        "colab_type": "code",
        "colab": {
          "base_uri": "https://localhost:8080/",
          "height": 221
        },
        "outputId": "e9e4f6ea-4d5a-48b5-88ef-f922910e83f6"
      },
      "source": [
        "!tail server.log"
      ],
      "execution_count": 35,
      "outputs": [
        {
          "output_type": "stream",
          "text": [
            "2020-07-04 06:15:23.495122: I external/org_tensorflow/tensorflow/core/platform/cpu_feature_guard.cc:143] Your CPU supports instructions that this TensorFlow binary was not compiled to use: AVX2 FMA\n",
            "2020-07-04 06:15:23.508407: I external/org_tensorflow/tensorflow/cc/saved_model/loader.cc:234] Restoring SavedModel bundle.\n",
            "2020-07-04 06:15:23.529519: I external/org_tensorflow/tensorflow/cc/saved_model/loader.cc:183] Running initialization op on SavedModel bundle at path: /tmp/1\n",
            "2020-07-04 06:15:23.533047: I external/org_tensorflow/tensorflow/cc/saved_model/loader.cc:364] SavedModel load for tags { serve }; Status: success: OK. Took 39055 microseconds.\n",
            "2020-07-04 06:15:23.533404: I tensorflow_serving/servables/tensorflow/saved_model_warmup.cc:105] No warmup data file found at /tmp/1/assets.extra/tf_serving_warmup_requests\n",
            "2020-07-04 06:15:23.533502: I tensorflow_serving/core/loader_harness.cc:87] Successfully loaded servable version {name: fashion_model version: 1}\n",
            "2020-07-04 06:15:23.534509: I tensorflow_serving/model_servers/server.cc:355] Running gRPC ModelServer at 0.0.0.0:8500 ...\n",
            "[warn] getaddrinfo: address family for nodename not supported\n",
            "2020-07-04 06:15:23.535120: I tensorflow_serving/model_servers/server.cc:375] Exporting HTTP/REST API at:localhost:8501 ...\n",
            "[evhttp_server.cc : 238] NET_LOG: Entering the event loop ...\n"
          ],
          "name": "stdout"
        }
      ]
    },
    {
      "cell_type": "markdown",
      "metadata": {
        "id": "9mDZlfHCWIdR",
        "colab_type": "text"
      },
      "source": [
        "# **Use the saved model to make predictions**"
      ]
    },
    {
      "cell_type": "code",
      "metadata": {
        "id": "OlpyuBh4UC7K",
        "colab_type": "code",
        "colab": {
          "base_uri": "https://localhost:8080/",
          "height": 72
        },
        "outputId": "7ea5f97e-0b06-488a-8f1c-9f5f459be0c7"
      },
      "source": [
        "# import load_model\n",
        "from tensorflow.keras.models import load_model\n",
        "\n",
        "# give the path to model directory to load the model\n",
        "loaded_model = tf.keras.models.load_model('my_model/1/')\n",
        "\n",
        "# predict function to predict the probabilities for each class 0-9\n",
        "loaded_model.predict(test_images[0:1])\n"
      ],
      "execution_count": 16,
      "outputs": [
        {
          "output_type": "execute_result",
          "data": {
            "text/plain": [
              "array([[1.6927183e-09, 6.8249531e-11, 1.1241314e-06, 5.9896865e-05,\n",
              "        4.1180010e-13, 4.3300412e-09, 1.5871124e-14, 9.9993873e-01,\n",
              "        6.0981812e-08, 1.4773265e-07]], dtype=float32)"
            ]
          },
          "metadata": {
            "tags": []
          },
          "execution_count": 16
        }
      ]
    },
    {
      "cell_type": "code",
      "metadata": {
        "id": "72cUqrccWR9b",
        "colab_type": "code",
        "colab": {
          "base_uri": "https://localhost:8080/",
          "height": 35
        },
        "outputId": "aed2c86f-22f2-40b1-d3ea-b10c54de1815"
      },
      "source": [
        "test_images.shape"
      ],
      "execution_count": 17,
      "outputs": [
        {
          "output_type": "execute_result",
          "data": {
            "text/plain": [
              "(1000, 784)"
            ]
          },
          "metadata": {
            "tags": []
          },
          "execution_count": 17
        }
      ]
    },
    {
      "cell_type": "code",
      "metadata": {
        "id": "jMTVCftIWud8",
        "colab_type": "code",
        "colab": {
          "base_uri": "https://localhost:8080/",
          "height": 35
        },
        "outputId": "9e63b89c-0eb2-4141-91bf-7cef15fac655"
      },
      "source": [
        "import numpy as np\n",
        "np.argmax(loaded_model.predict(test_images[0:1]))\n"
      ],
      "execution_count": 18,
      "outputs": [
        {
          "output_type": "execute_result",
          "data": {
            "text/plain": [
              "7"
            ]
          },
          "metadata": {
            "tags": []
          },
          "execution_count": 18
        }
      ]
    },
    {
      "cell_type": "markdown",
      "metadata": {
        "id": "wseZyJwTXkNi",
        "colab_type": "text"
      },
      "source": [
        "# **starting the server**"
      ]
    },
    {
      "cell_type": "code",
      "metadata": {
        "id": "iY9q8fz5XoXt",
        "colab_type": "code",
        "colab": {
          "base_uri": "https://localhost:8080/",
          "height": 319
        },
        "outputId": "3a85a37d-876b-49fc-df31-ea8a05ea76fc"
      },
      "source": [
        "from skimage import io\n",
        "import matplotlib.pyplot as plt\n",
        "%matplotlib inline\n",
        "import random\n",
        "\n",
        "# function to display image\n",
        "def show(idx, title):\n",
        "    plt.figure()\n",
        "    plt.imshow(test_images[idx].reshape(28,28))\n",
        "    plt.axis('off')\n",
        "    plt.title('\\n\\n{}'.format(test_labels[idx]), fontdict={'size': 16})\n",
        "\n",
        "# generate a random index\n",
        "r = random.randint(0,len(test_images)-1)\n",
        "\n",
        "#\n",
        "print(\"Random Number Generated: \", r, \"Image Label : \", test_labels[r])\n",
        "show(r, 'Image: {}'.format(test_images[r]))"
      ],
      "execution_count": 22,
      "outputs": [
        {
          "output_type": "stream",
          "text": [
            "Random Number Generated:  190 Image Label :  1\n"
          ],
          "name": "stdout"
        },
        {
          "output_type": "display_data",
          "data": {
            "image/png": "[encoded data removed]",
            "text/plain": [
              "<Figure size 432x288 with 1 Axes>"
            ]
          },
          "metadata": {
            "tags": [],
            "needs_background": "light"
          }
        }
      ]
    },
    {
      "cell_type": "code",
      "metadata": {
        "id": "rvto1iYbYVDD",
        "colab_type": "code",
        "colab": {
          "base_uri": "https://localhost:8080/",
          "height": 35
        },
        "outputId": "3c1f306a-0445-4c54-9a96-8d0ee8182e30"
      },
      "source": [
        "data = json.dumps({\"signature_name\": \"serving_default\", \"instances\": test_images[0:3].tolist()})\n",
        "print('Data: {} ... {}'.format(data[:50], data[len(data)-52:]))"
      ],
      "execution_count": 36,
      "outputs": [
        {
          "output_type": "stream",
          "text": [
            "Data: {\"signature_name\": \"serving_default\", \"instances\": ...  0.0, 0.0, 0.0, 0.0, 0.0, 0.0, 0.0, 0.0, 0.0, 0.0]]}\n"
          ],
          "name": "stdout"
        }
      ]
    },
    {
      "cell_type": "code",
      "metadata": {
        "id": "XNaa1gsIZSey",
        "colab_type": "code",
        "colab": {
          "base_uri": "https://localhost:8080/",
          "height": 301
        },
        "outputId": "e1159c3c-94af-423c-9a15-d29d89f34c61"
      },
      "source": [
        "import requests\n",
        "headers = {\"content-type\": \"application/json\"}\n",
        "json_response = requests.post('http://localhost:8501/v1/models/fashion_model:predict', data=data, headers=headers)\n",
        "predictions = json.loads(json_response.text)['predictions']\n",
        "\n",
        "show(r, 'Image: {}'.format(test_images[r]))"
      ],
      "execution_count": 38,
      "outputs": [
        {
          "output_type": "display_data",
          "data": {
            "image/png": "[encoded data removed]",
            "text/plain": [
              "<Figure size 432x288 with 1 Axes>"
            ]
          },
          "metadata": {
            "tags": [],
            "needs_background": "light"
          }
        }
      ]
    },
    {
      "cell_type": "code",
      "metadata": {
        "id": "TNrK5xvReG5a",
        "colab_type": "code",
        "colab": {}
      },
      "source": [
        "converter = tf.lite.TFLiteConverter.from_keras_model(model)\n",
        "tflite_model = converter.convert()\n",
        "\n",
        "# Save the TF Lite model.\n",
        "with tf.io.gfile.GFile('model.tflite', 'wb') as f:\n",
        "  f.write(tflite_model)\n"
      ],
      "execution_count": 39,
      "outputs": []
    },
    {
      "cell_type": "code",
      "metadata": {
        "id": "gaDppm_bnB7t",
        "colab_type": "code",
        "colab": {}
      },
      "source": [
        ""
      ],
      "execution_count": null,
      "outputs": []
    }
  ]
}